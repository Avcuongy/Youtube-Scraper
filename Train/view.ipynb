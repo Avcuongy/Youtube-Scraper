{
 "cells": [
  {
   "cell_type": "code",
   "execution_count": 1,
   "id": "43a45ee9",
   "metadata": {},
   "outputs": [],
   "source": [
    "import pandas as pd"
   ]
  },
  {
   "cell_type": "code",
   "execution_count": 3,
   "id": "bd09e6a7",
   "metadata": {},
   "outputs": [],
   "source": [
    "df = pd.read_csv(r\"D:\\_Dev\\My Project\\Youtube-Scraper\\Train\\data.csv\")"
   ]
  },
  {
   "cell_type": "code",
   "execution_count": 4,
   "id": "bcd4caa0",
   "metadata": {},
   "outputs": [
    {
     "data": {
      "text/html": [
       "<div>\n",
       "<style scoped>\n",
       "    .dataframe tbody tr th:only-of-type {\n",
       "        vertical-align: middle;\n",
       "    }\n",
       "\n",
       "    .dataframe tbody tr th {\n",
       "        vertical-align: top;\n",
       "    }\n",
       "\n",
       "    .dataframe thead th {\n",
       "        text-align: right;\n",
       "    }\n",
       "</style>\n",
       "<table border=\"1\" class=\"dataframe\">\n",
       "  <thead>\n",
       "    <tr style=\"text-align: right;\">\n",
       "      <th></th>\n",
       "      <th>title</th>\n",
       "      <th>channel</th>\n",
       "      <th>view</th>\n",
       "      <th>url</th>\n",
       "    </tr>\n",
       "  </thead>\n",
       "  <tbody>\n",
       "    <tr>\n",
       "      <th>0</th>\n",
       "      <td>On Our Way to KCON! Feelin' Like We're Already...</td>\n",
       "      <td>tripleS official</td>\n",
       "      <td>24K views</td>\n",
       "      <td>https://www.youtube.com/watch?v=_IRz0f2elrs&amp;li...</td>\n",
       "    </tr>\n",
       "    <tr>\n",
       "      <th>1</th>\n",
       "      <td>🍓Strawberry Princess Gonna Turn 19 Years Old🎉 ...</td>\n",
       "      <td>tripleS official</td>\n",
       "      <td>13K views</td>\n",
       "      <td>https://www.youtube.com/watch?v=OVE3vxmpNic&amp;li...</td>\n",
       "    </tr>\n",
       "    <tr>\n",
       "      <th>2</th>\n",
       "      <td>May↗️ 2nd↗️ is the day when StrawberryAlienGir...</td>\n",
       "      <td>tripleS official</td>\n",
       "      <td>15K views</td>\n",
       "      <td>https://www.youtube.com/watch?v=614xAQLKU4w&amp;li...</td>\n",
       "    </tr>\n",
       "    <tr>\n",
       "      <th>3</th>\n",
       "      <td>Behind the Scenes of Woori Bank x tripleS's Sp...</td>\n",
       "      <td>tripleS official</td>\n",
       "      <td>19K views</td>\n",
       "      <td>https://www.youtube.com/watch?v=nIruPiLvGMg&amp;li...</td>\n",
       "    </tr>\n",
       "    <tr>\n",
       "      <th>4</th>\n",
       "      <td>The Graceful Princesses Are Back with Atom02 1...</td>\n",
       "      <td>tripleS official</td>\n",
       "      <td>28K views</td>\n",
       "      <td>https://www.youtube.com/watch?v=hU2l1EJZ4-Q&amp;li...</td>\n",
       "    </tr>\n",
       "  </tbody>\n",
       "</table>\n",
       "</div>"
      ],
      "text/plain": [
       "                                               title           channel  \\\n",
       "0  On Our Way to KCON! Feelin' Like We're Already...  tripleS official   \n",
       "1  🍓Strawberry Princess Gonna Turn 19 Years Old🎉 ...  tripleS official   \n",
       "2  May↗️ 2nd↗️ is the day when StrawberryAlienGir...  tripleS official   \n",
       "3  Behind the Scenes of Woori Bank x tripleS's Sp...  tripleS official   \n",
       "4  The Graceful Princesses Are Back with Atom02 1...  tripleS official   \n",
       "\n",
       "        view                                                url  \n",
       "0  24K views  https://www.youtube.com/watch?v=_IRz0f2elrs&li...  \n",
       "1  13K views  https://www.youtube.com/watch?v=OVE3vxmpNic&li...  \n",
       "2  15K views  https://www.youtube.com/watch?v=614xAQLKU4w&li...  \n",
       "3  19K views  https://www.youtube.com/watch?v=nIruPiLvGMg&li...  \n",
       "4  28K views  https://www.youtube.com/watch?v=hU2l1EJZ4-Q&li...  "
      ]
     },
     "execution_count": 4,
     "metadata": {},
     "output_type": "execute_result"
    }
   ],
   "source": [
    "df.head()"
   ]
  },
  {
   "cell_type": "code",
   "execution_count": 7,
   "id": "cec30c4a",
   "metadata": {},
   "outputs": [],
   "source": [
    "def view_value(value: str):\n",
    "    index_space = value.find(\" \")\n",
    "    view = value[:index_space]\n",
    "    view = view.lower()\n",
    "    if view[-1] == \"k\":\n",
    "        return float(value[:index_space - 1]) * 1000\n",
    "    elif view[-1] == \"m\":\n",
    "        return float(value[:index_space - 1]) * 1000000\n",
    "    elif view[-1] == \"b\":\n",
    "        return float(value[:index_space - 1]) * 1000000000\n",
    "    else:\n",
    "        return float(value[:index_space])"
   ]
  },
  {
   "cell_type": "code",
   "execution_count": 8,
   "id": "39e615e2",
   "metadata": {},
   "outputs": [],
   "source": [
    "df['view'] = df['view'].apply(view_value)"
   ]
  },
  {
   "cell_type": "code",
   "execution_count": 9,
   "id": "9e5c79f3",
   "metadata": {},
   "outputs": [
    {
     "data": {
      "text/html": [
       "<div>\n",
       "<style scoped>\n",
       "    .dataframe tbody tr th:only-of-type {\n",
       "        vertical-align: middle;\n",
       "    }\n",
       "\n",
       "    .dataframe tbody tr th {\n",
       "        vertical-align: top;\n",
       "    }\n",
       "\n",
       "    .dataframe thead th {\n",
       "        text-align: right;\n",
       "    }\n",
       "</style>\n",
       "<table border=\"1\" class=\"dataframe\">\n",
       "  <thead>\n",
       "    <tr style=\"text-align: right;\">\n",
       "      <th></th>\n",
       "      <th>title</th>\n",
       "      <th>channel</th>\n",
       "      <th>view</th>\n",
       "      <th>url</th>\n",
       "    </tr>\n",
       "  </thead>\n",
       "  <tbody>\n",
       "    <tr>\n",
       "      <th>0</th>\n",
       "      <td>On Our Way to KCON! Feelin' Like We're Already...</td>\n",
       "      <td>tripleS official</td>\n",
       "      <td>24000.0</td>\n",
       "      <td>https://www.youtube.com/watch?v=_IRz0f2elrs&amp;li...</td>\n",
       "    </tr>\n",
       "    <tr>\n",
       "      <th>1</th>\n",
       "      <td>🍓Strawberry Princess Gonna Turn 19 Years Old🎉 ...</td>\n",
       "      <td>tripleS official</td>\n",
       "      <td>13000.0</td>\n",
       "      <td>https://www.youtube.com/watch?v=OVE3vxmpNic&amp;li...</td>\n",
       "    </tr>\n",
       "    <tr>\n",
       "      <th>2</th>\n",
       "      <td>May↗️ 2nd↗️ is the day when StrawberryAlienGir...</td>\n",
       "      <td>tripleS official</td>\n",
       "      <td>15000.0</td>\n",
       "      <td>https://www.youtube.com/watch?v=614xAQLKU4w&amp;li...</td>\n",
       "    </tr>\n",
       "    <tr>\n",
       "      <th>3</th>\n",
       "      <td>Behind the Scenes of Woori Bank x tripleS's Sp...</td>\n",
       "      <td>tripleS official</td>\n",
       "      <td>19000.0</td>\n",
       "      <td>https://www.youtube.com/watch?v=nIruPiLvGMg&amp;li...</td>\n",
       "    </tr>\n",
       "    <tr>\n",
       "      <th>4</th>\n",
       "      <td>The Graceful Princesses Are Back with Atom02 1...</td>\n",
       "      <td>tripleS official</td>\n",
       "      <td>28000.0</td>\n",
       "      <td>https://www.youtube.com/watch?v=hU2l1EJZ4-Q&amp;li...</td>\n",
       "    </tr>\n",
       "  </tbody>\n",
       "</table>\n",
       "</div>"
      ],
      "text/plain": [
       "                                               title           channel  \\\n",
       "0  On Our Way to KCON! Feelin' Like We're Already...  tripleS official   \n",
       "1  🍓Strawberry Princess Gonna Turn 19 Years Old🎉 ...  tripleS official   \n",
       "2  May↗️ 2nd↗️ is the day when StrawberryAlienGir...  tripleS official   \n",
       "3  Behind the Scenes of Woori Bank x tripleS's Sp...  tripleS official   \n",
       "4  The Graceful Princesses Are Back with Atom02 1...  tripleS official   \n",
       "\n",
       "      view                                                url  \n",
       "0  24000.0  https://www.youtube.com/watch?v=_IRz0f2elrs&li...  \n",
       "1  13000.0  https://www.youtube.com/watch?v=OVE3vxmpNic&li...  \n",
       "2  15000.0  https://www.youtube.com/watch?v=614xAQLKU4w&li...  \n",
       "3  19000.0  https://www.youtube.com/watch?v=nIruPiLvGMg&li...  \n",
       "4  28000.0  https://www.youtube.com/watch?v=hU2l1EJZ4-Q&li...  "
      ]
     },
     "execution_count": 9,
     "metadata": {},
     "output_type": "execute_result"
    }
   ],
   "source": [
    "df.head()"
   ]
  },
  {
   "cell_type": "code",
   "execution_count": 16,
   "id": "437dc4b2",
   "metadata": {},
   "outputs": [
    {
     "data": {
      "text/plain": [
       "108    https://www.youtube.com/watch?v=JlzgSQoAP78&li...\n",
       "115    https://www.youtube.com/watch?v=m5RAht7y__k&li...\n",
       "165    https://www.youtube.com/watch?v=UMDY2AahEK0&li...\n",
       "228    https://www.youtube.com/watch?v=0IntG61yS58&li...\n",
       "317    https://www.youtube.com/watch?v=0Yi_3HOmL4Q&li...\n",
       "330    https://www.youtube.com/watch?v=pqYWDkyck2Y&li...\n",
       "333    https://www.youtube.com/watch?v=pt0YsiUXFxo&li...\n",
       "346    https://www.youtube.com/watch?v=NXmTXhtijbM&li...\n",
       "356    https://www.youtube.com/watch?v=_eVn08abqBU&li...\n",
       "359    https://www.youtube.com/watch?v=6s5p6bM8qIM&li...\n",
       "360    https://www.youtube.com/watch?v=PI91GFbDvTo&li...\n",
       "Name: url, dtype: object"
      ]
     },
     "execution_count": 16,
     "metadata": {},
     "output_type": "execute_result"
    }
   ],
   "source": [
    "df_signal = df[df['title'].str.contains(\"Mayu\")]\n",
    "df_signal['url']"
   ]
  }
 ],
 "metadata": {
  "kernelspec": {
   "display_name": "Python 3",
   "language": "python",
   "name": "python3"
  },
  "language_info": {
   "codemirror_mode": {
    "name": "ipython",
    "version": 3
   },
   "file_extension": ".py",
   "mimetype": "text/x-python",
   "name": "python",
   "nbconvert_exporter": "python",
   "pygments_lexer": "ipython3",
   "version": "3.13.2"
  }
 },
 "nbformat": 4,
 "nbformat_minor": 5
}
