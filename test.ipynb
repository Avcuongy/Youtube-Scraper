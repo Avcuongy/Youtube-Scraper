{
 "cells": [
  {
   "cell_type": "code",
   "execution_count": 1,
   "id": "d6a65483",
   "metadata": {},
   "outputs": [],
   "source": [
    "from scraper import *"
   ]
  },
  {
   "cell_type": "code",
   "execution_count": 2,
   "id": "100ac35e",
   "metadata": {},
   "outputs": [],
   "source": [
    "url_vid = \"https://www.youtube.com/watch?v=WLlQcJgGyxM&list=LL\""
   ]
  },
  {
   "cell_type": "code",
   "execution_count": 3,
   "id": "43ac7ac0",
   "metadata": {},
   "outputs": [
    {
     "name": "stdout",
     "output_type": "stream",
     "text": [
      "Đã lưu tại 'data.csv'\n"
     ]
    }
   ],
   "source": [
    "scrape_single_video(url_vid)"
   ]
  },
  {
   "cell_type": "code",
   "execution_count": 4,
   "id": "07da9ea2",
   "metadata": {},
   "outputs": [],
   "source": [
    "url = \"https://www.youtube.com/playlist?list=PLbJo7GnFM_tdMeoyQDwRxoxdvIEEu03G-\""
   ]
  },
  {
   "cell_type": "code",
   "execution_count": 5,
   "id": "104c0ce4",
   "metadata": {},
   "outputs": [
    {
     "name": "stdout",
     "output_type": "stream",
     "text": [
      "Đã lưu tại 'data.csv'\n"
     ]
    }
   ],
   "source": [
    "scrape_youtube_playlist(url)"
   ]
  }
 ],
 "metadata": {
  "kernelspec": {
   "display_name": "Python 3",
   "language": "python",
   "name": "python3"
  },
  "language_info": {
   "codemirror_mode": {
    "name": "ipython",
    "version": 3
   },
   "file_extension": ".py",
   "mimetype": "text/x-python",
   "name": "python",
   "nbconvert_exporter": "python",
   "pygments_lexer": "ipython3",
   "version": "3.13.2"
  }
 },
 "nbformat": 4,
 "nbformat_minor": 5
}
