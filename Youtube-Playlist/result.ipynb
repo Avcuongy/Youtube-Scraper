{
 "cells": [
  {
   "cell_type": "code",
   "execution_count": 10,
   "id": "c36d13ea",
   "metadata": {},
   "outputs": [],
   "source": [
    "from playlist import scrape_youtube_playlist"
   ]
  },
  {
   "cell_type": "code",
   "execution_count": 11,
   "id": "c9351560",
   "metadata": {},
   "outputs": [],
   "source": [
    "youtube_playlist_url = \"https://www.youtube.com/playlist?list=PLtfvnr3voKT2TA3uFFqrrzNdOrfGQKlEs\""
   ]
  },
  {
   "cell_type": "code",
   "execution_count": 12,
   "id": "e207e2ac",
   "metadata": {},
   "outputs": [
    {
     "name": "stdout",
     "output_type": "stream",
     "text": [
      "Đã lưu 868 video vào data.csv\n"
     ]
    }
   ],
   "source": [
    "scrape_youtube_playlist(url=youtube_playlist_url)"
   ]
  }
 ],
 "metadata": {
  "kernelspec": {
   "display_name": "Python 3",
   "language": "python",
   "name": "python3"
  },
  "language_info": {
   "codemirror_mode": {
    "name": "ipython",
    "version": 3
   },
   "file_extension": ".py",
   "mimetype": "text/x-python",
   "name": "python",
   "nbconvert_exporter": "python",
   "pygments_lexer": "ipython3",
   "version": "3.13.2"
  }
 },
 "nbformat": 4,
 "nbformat_minor": 5
}
