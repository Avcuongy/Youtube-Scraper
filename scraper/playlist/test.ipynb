{
 "cells": [
  {
   "cell_type": "code",
   "execution_count": 11,
   "id": "7f4e838f",
   "metadata": {},
   "outputs": [],
   "source": [
    "import pandas as pd\n",
    "import matplotlib.pyplot as plt\n",
    "import seaborn as sns"
   ]
  },
  {
   "cell_type": "code",
   "execution_count": 21,
   "id": "61e40d3c",
   "metadata": {},
   "outputs": [],
   "source": [
    "df = pd.read_csv('data.csv')"
   ]
  },
  {
   "cell_type": "code",
   "execution_count": 22,
   "id": "48e605bf",
   "metadata": {},
   "outputs": [
    {
     "name": "stdout",
     "output_type": "stream",
     "text": [
      "868 videos\n"
     ]
    }
   ],
   "source": [
    "print(f'{df.shape[0]} videos')"
   ]
  },
  {
   "cell_type": "markdown",
   "id": "1e698faa",
   "metadata": {},
   "source": [
    "# Xử lí trường dữ liệu view"
   ]
  },
  {
   "cell_type": "code",
   "execution_count": 23,
   "id": "083605ee",
   "metadata": {},
   "outputs": [],
   "source": [
    "df[\"view\"] = df[\"view\"].str.replace(\"views\", \"\").str.strip()"
   ]
  },
  {
   "cell_type": "code",
   "execution_count": 25,
   "id": "e312e8ef",
   "metadata": {},
   "outputs": [
    {
     "data": {
      "text/html": [
       "<div>\n",
       "<style scoped>\n",
       "    .dataframe tbody tr th:only-of-type {\n",
       "        vertical-align: middle;\n",
       "    }\n",
       "\n",
       "    .dataframe tbody tr th {\n",
       "        vertical-align: top;\n",
       "    }\n",
       "\n",
       "    .dataframe thead th {\n",
       "        text-align: right;\n",
       "    }\n",
       "</style>\n",
       "<table border=\"1\" class=\"dataframe\">\n",
       "  <thead>\n",
       "    <tr style=\"text-align: right;\">\n",
       "      <th></th>\n",
       "      <th>title</th>\n",
       "      <th>channel</th>\n",
       "      <th>view</th>\n",
       "    </tr>\n",
       "  </thead>\n",
       "  <tbody>\n",
       "    <tr>\n",
       "      <th>0</th>\n",
       "      <td>tripleS 트리플에스 : YoonSeoYeon.SSS</td>\n",
       "      <td>tripleS official</td>\n",
       "      <td>809K</td>\n",
       "    </tr>\n",
       "    <tr>\n",
       "      <th>1</th>\n",
       "      <td>tripleS 트리플에스 : dijkstra</td>\n",
       "      <td>tripleS official</td>\n",
       "      <td>75K</td>\n",
       "    </tr>\n",
       "    <tr>\n",
       "      <th>2</th>\n",
       "      <td>Introducing Our Haus | tripleS 트리플에스 : SIGNAL ...</td>\n",
       "      <td>tripleS official</td>\n",
       "      <td>181K</td>\n",
       "    </tr>\n",
       "    <tr>\n",
       "      <th>3</th>\n",
       "      <td>Gonna Feast | tripleS 트리플에스 : SIGNAL 220510</td>\n",
       "      <td>tripleS official</td>\n",
       "      <td>96K</td>\n",
       "    </tr>\n",
       "    <tr>\n",
       "      <th>4</th>\n",
       "      <td>Gonna Dance | tripleS 트리플에스 : SIGNAL 220511</td>\n",
       "      <td>tripleS official</td>\n",
       "      <td>110K</td>\n",
       "    </tr>\n",
       "  </tbody>\n",
       "</table>\n",
       "</div>"
      ],
      "text/plain": [
       "                                               title           channel  view\n",
       "0                    tripleS 트리플에스 : YoonSeoYeon.SSS  tripleS official  809K\n",
       "1                           tripleS 트리플에스 : dijkstra  tripleS official   75K\n",
       "2  Introducing Our Haus | tripleS 트리플에스 : SIGNAL ...  tripleS official  181K\n",
       "3        Gonna Feast | tripleS 트리플에스 : SIGNAL 220510  tripleS official   96K\n",
       "4        Gonna Dance | tripleS 트리플에스 : SIGNAL 220511  tripleS official  110K"
      ]
     },
     "execution_count": 25,
     "metadata": {},
     "output_type": "execute_result"
    }
   ],
   "source": [
    "df.head()"
   ]
  },
  {
   "cell_type": "code",
   "execution_count": 24,
   "id": "dbd60d34",
   "metadata": {},
   "outputs": [
    {
     "name": "stdout",
     "output_type": "stream",
     "text": [
      "{'M', 'K'}\n"
     ]
    }
   ],
   "source": [
    "list_view_unit = df['view'].apply(lambda x: x[-1])\n",
    "print(set(list_view_unit))"
   ]
  },
  {
   "cell_type": "code",
   "execution_count": 31,
   "id": "066af7f3",
   "metadata": {},
   "outputs": [
    {
     "data": {
      "text/html": [
       "<div>\n",
       "<style scoped>\n",
       "    .dataframe tbody tr th:only-of-type {\n",
       "        vertical-align: middle;\n",
       "    }\n",
       "\n",
       "    .dataframe tbody tr th {\n",
       "        vertical-align: top;\n",
       "    }\n",
       "\n",
       "    .dataframe thead th {\n",
       "        text-align: right;\n",
       "    }\n",
       "</style>\n",
       "<table border=\"1\" class=\"dataframe\">\n",
       "  <thead>\n",
       "    <tr style=\"text-align: right;\">\n",
       "      <th></th>\n",
       "      <th>title</th>\n",
       "      <th>channel</th>\n",
       "      <th>view</th>\n",
       "    </tr>\n",
       "  </thead>\n",
       "  <tbody>\n",
       "    <tr>\n",
       "      <th>55</th>\n",
       "      <td>Girls in the city | tripleS 트리플에스 : SIGNAL 220625</td>\n",
       "      <td>tripleS official</td>\n",
       "      <td>2.1M</td>\n",
       "    </tr>\n",
       "    <tr>\n",
       "      <th>67</th>\n",
       "      <td>We Are One and Also 25  | tripleS 트리플에스 : SIGN...</td>\n",
       "      <td>tripleS official</td>\n",
       "      <td>1.3M</td>\n",
       "    </tr>\n",
       "    <tr>\n",
       "      <th>71</th>\n",
       "      <td>HyeRin Passed Out | tripleS 트리플에스 : SSSIGNAL 2...</td>\n",
       "      <td>tripleS official</td>\n",
       "      <td>1.1M</td>\n",
       "    </tr>\n",
       "    <tr>\n",
       "      <th>82</th>\n",
       "      <td>ChaeYeon YooYeon Connection | tripleS 트리플에스 : ...</td>\n",
       "      <td>tripleS official</td>\n",
       "      <td>1.3M</td>\n",
       "    </tr>\n",
       "    <tr>\n",
       "      <th>83</th>\n",
       "      <td>The Beginning of Hard Training | tripleS 트리플에스...</td>\n",
       "      <td>tripleS official</td>\n",
       "      <td>1.5M</td>\n",
       "    </tr>\n",
       "    <tr>\n",
       "      <th>149</th>\n",
       "      <td>[SONG] They Don’t Know by SeoYeon, JiWoo, YooY...</td>\n",
       "      <td>tripleS official</td>\n",
       "      <td>1M</td>\n",
       "    </tr>\n",
       "  </tbody>\n",
       "</table>\n",
       "</div>"
      ],
      "text/plain": [
       "                                                 title           channel  view\n",
       "55   Girls in the city | tripleS 트리플에스 : SIGNAL 220625  tripleS official  2.1M\n",
       "67   We Are One and Also 25  | tripleS 트리플에스 : SIGN...  tripleS official  1.3M\n",
       "71   HyeRin Passed Out | tripleS 트리플에스 : SSSIGNAL 2...  tripleS official  1.1M\n",
       "82   ChaeYeon YooYeon Connection | tripleS 트리플에스 : ...  tripleS official  1.3M\n",
       "83   The Beginning of Hard Training | tripleS 트리플에스...  tripleS official  1.5M\n",
       "149  [SONG] They Don’t Know by SeoYeon, JiWoo, YooY...  tripleS official    1M"
      ]
     },
     "execution_count": 31,
     "metadata": {},
     "output_type": "execute_result"
    }
   ],
   "source": [
    "df[df['view'].str.contains('M')]"
   ]
  },
  {
   "cell_type": "code",
   "execution_count": 50,
   "id": "55822266",
   "metadata": {},
   "outputs": [],
   "source": [
    "def view_change(view):\n",
    "    view = view.lower()\n",
    "    if 'm' in view:\n",
    "        return float(view[:-1])*1000000\n",
    "    elif 'k' in view:\n",
    "        return float(view[:-1])*1000"
   ]
  },
  {
   "cell_type": "code",
   "execution_count": 52,
   "id": "34c2e63f",
   "metadata": {},
   "outputs": [],
   "source": [
    "df['view'] = df['view'].apply(lambda x: view_change(x))"
   ]
  },
  {
   "cell_type": "code",
   "execution_count": 55,
   "id": "0d6a989e",
   "metadata": {},
   "outputs": [
    {
     "data": {
      "text/html": [
       "<div>\n",
       "<style scoped>\n",
       "    .dataframe tbody tr th:only-of-type {\n",
       "        vertical-align: middle;\n",
       "    }\n",
       "\n",
       "    .dataframe tbody tr th {\n",
       "        vertical-align: top;\n",
       "    }\n",
       "\n",
       "    .dataframe thead th {\n",
       "        text-align: right;\n",
       "    }\n",
       "</style>\n",
       "<table border=\"1\" class=\"dataframe\">\n",
       "  <thead>\n",
       "    <tr style=\"text-align: right;\">\n",
       "      <th></th>\n",
       "      <th>title</th>\n",
       "      <th>channel</th>\n",
       "      <th>view</th>\n",
       "    </tr>\n",
       "  </thead>\n",
       "  <tbody>\n",
       "    <tr>\n",
       "      <th>55</th>\n",
       "      <td>Girls in the city | tripleS 트리플에스 : SIGNAL 220625</td>\n",
       "      <td>tripleS official</td>\n",
       "      <td>2100000.0</td>\n",
       "    </tr>\n",
       "    <tr>\n",
       "      <th>83</th>\n",
       "      <td>The Beginning of Hard Training | tripleS 트리플에스...</td>\n",
       "      <td>tripleS official</td>\n",
       "      <td>1500000.0</td>\n",
       "    </tr>\n",
       "    <tr>\n",
       "      <th>67</th>\n",
       "      <td>We Are One and Also 25  | tripleS 트리플에스 : SIGN...</td>\n",
       "      <td>tripleS official</td>\n",
       "      <td>1300000.0</td>\n",
       "    </tr>\n",
       "    <tr>\n",
       "      <th>82</th>\n",
       "      <td>ChaeYeon YooYeon Connection | tripleS 트리플에스 : ...</td>\n",
       "      <td>tripleS official</td>\n",
       "      <td>1300000.0</td>\n",
       "    </tr>\n",
       "    <tr>\n",
       "      <th>71</th>\n",
       "      <td>HyeRin Passed Out | tripleS 트리플에스 : SSSIGNAL 2...</td>\n",
       "      <td>tripleS official</td>\n",
       "      <td>1100000.0</td>\n",
       "    </tr>\n",
       "    <tr>\n",
       "      <th>...</th>\n",
       "      <td>...</td>\n",
       "      <td>...</td>\n",
       "      <td>...</td>\n",
       "    </tr>\n",
       "    <tr>\n",
       "      <th>847</th>\n",
       "      <td>DaHyun from a year ago to DaHyun from one year...</td>\n",
       "      <td>tripleS official</td>\n",
       "      <td>13000.0</td>\n",
       "    </tr>\n",
       "    <tr>\n",
       "      <th>858</th>\n",
       "      <td>How HyeRin can make the most of her last teena...</td>\n",
       "      <td>tripleS official</td>\n",
       "      <td>12000.0</td>\n",
       "    </tr>\n",
       "    <tr>\n",
       "      <th>859</th>\n",
       "      <td>Baby shark Lynn's sparkling birthday story🦈✨ |...</td>\n",
       "      <td>tripleS official</td>\n",
       "      <td>12000.0</td>\n",
       "    </tr>\n",
       "    <tr>\n",
       "      <th>833</th>\n",
       "      <td>HyeRin's behind-the-scenes of Ever01 2nd FCO s...</td>\n",
       "      <td>tripleS official</td>\n",
       "      <td>11000.0</td>\n",
       "    </tr>\n",
       "    <tr>\n",
       "      <th>853</th>\n",
       "      <td>Happy 20th birthday to our 20th member, ShiOn🥐...</td>\n",
       "      <td>tripleS official</td>\n",
       "      <td>11000.0</td>\n",
       "    </tr>\n",
       "  </tbody>\n",
       "</table>\n",
       "<p>868 rows × 3 columns</p>\n",
       "</div>"
      ],
      "text/plain": [
       "                                                 title           channel  \\\n",
       "55   Girls in the city | tripleS 트리플에스 : SIGNAL 220625  tripleS official   \n",
       "83   The Beginning of Hard Training | tripleS 트리플에스...  tripleS official   \n",
       "67   We Are One and Also 25  | tripleS 트리플에스 : SIGN...  tripleS official   \n",
       "82   ChaeYeon YooYeon Connection | tripleS 트리플에스 : ...  tripleS official   \n",
       "71   HyeRin Passed Out | tripleS 트리플에스 : SSSIGNAL 2...  tripleS official   \n",
       "..                                                 ...               ...   \n",
       "847  DaHyun from a year ago to DaHyun from one year...  tripleS official   \n",
       "858  How HyeRin can make the most of her last teena...  tripleS official   \n",
       "859  Baby shark Lynn's sparkling birthday story🦈✨ |...  tripleS official   \n",
       "833  HyeRin's behind-the-scenes of Ever01 2nd FCO s...  tripleS official   \n",
       "853  Happy 20th birthday to our 20th member, ShiOn🥐...  tripleS official   \n",
       "\n",
       "          view  \n",
       "55   2100000.0  \n",
       "83   1500000.0  \n",
       "67   1300000.0  \n",
       "82   1300000.0  \n",
       "71   1100000.0  \n",
       "..         ...  \n",
       "847    13000.0  \n",
       "858    12000.0  \n",
       "859    12000.0  \n",
       "833    11000.0  \n",
       "853    11000.0  \n",
       "\n",
       "[868 rows x 3 columns]"
      ]
     },
     "execution_count": 55,
     "metadata": {},
     "output_type": "execute_result"
    }
   ],
   "source": [
    "df.sort_values(by='view', ascending=False)"
   ]
  },
  {
   "cell_type": "code",
   "execution_count": 66,
   "id": "4e36a006",
   "metadata": {},
   "outputs": [
    {
     "data": {
      "text/plain": [
       "<Axes: xlabel='None', ylabel='view'>"
      ]
     },
     "execution_count": 66,
     "metadata": {},
     "output_type": "execute_result"
    },
    {
     "data": {
      "image/png": "[encoded data removed]",
      "text/plain": [
       "<Figure size 1500x500 with 1 Axes>"
      ]
     },
     "metadata": {},
     "output_type": "display_data"
    }
   ],
   "source": [
    "plt.figure(figsize=(15,5))\n",
    "sns.lineplot(y='view', x=df.index, data=df)"
   ]
  }
 ],
 "metadata": {
  "kernelspec": {
   "display_name": "Python 3",
   "language": "python",
   "name": "python3"
  },
  "language_info": {
   "codemirror_mode": {
    "name": "ipython",
    "version": 3
   },
   "file_extension": ".py",
   "mimetype": "text/x-python",
   "name": "python",
   "nbconvert_exporter": "python",
   "pygments_lexer": "ipython3",
   "version": "3.13.2"
  }
 },
 "nbformat": 4,
 "nbformat_minor": 5
}
